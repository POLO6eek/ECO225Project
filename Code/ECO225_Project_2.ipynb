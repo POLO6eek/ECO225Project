{
 "cells": [
  {
   "cell_type": "markdown",
   "id": "c2d94abb",
   "metadata": {},
   "source": [
    "# **What role does urbanization, using China as an example, play in shaping average temperature trends in a warming world?**"
   ]
  },
  {
   "cell_type": "markdown",
   "id": "2bb2f0d3",
   "metadata": {},
   "source": [
    "# Project One"
   ]
  },
  {
   "cell_type": "markdown",
   "id": "1c707af0",
   "metadata": {},
   "source": [
    "## Introduction"
   ]
  },
  {
   "cell_type": "markdown",
   "id": "f52c2da8",
   "metadata": {},
   "source": [
    "With the development of modern cities and urbanization, the global average temperature has been increasing over the past century, leading to concerns about the impacts of climate change. While urbanization significantly improves life standards and society efficiency, it is commonly believed to be a significant contributor to the global warming process. \n",
    "\n",
    "China, one of the fastest-growing developing countries in the world, is undergoing rapid urbanization in the recent few decades. This research aims to examine the role of urbanization in shaping average temperature trends in China. The analysis will be focused on finding the relationship between average temperature and other independent variables such as city, years, and percentage change in annual temperature based on a time series analysis starting from 1950 to 2012. Specifically, 1979 to 2012 is the period China decided to begin the journey of reforming and opening up. We will use year as independent variable to show the trend of annual temperature change between 1950 to 2012. We will also study the difference in annual average temperature using city as independent variable. We will use percentage in annual average temperature as the independent variable to see the frequency of cities that has a temperature over certain value. \n",
    "\n",
    "Several studies have investigated the role of urbanization in shaping average temperature trends in China. Li et al. (2013) highlighted the importance of land cover change and human activity in contributing to observed warming. Similarly, the contribution of urbanization to warming in China was found to be significant, accounting for approximately one-third of the total warming signal (Sun et al., 2016). Moreover, the magnitude of urbanization-induced warming effects was found to depend not only on a city's economic level, but also on its population scale and geographic environment (Fang et al., 2013).\n",
    "\n",
    "By investigating the impact of urbanization on temperature trends in China, this study will further enhance our understanding of the interaction between human activity and the environment. We find out that the average temperature is increasing overall between 1978 to 2012, and remained stable between 1950 to 1978. This shows that the relationship between urbanization and economic development is positively related to the warming of China. The overall average temperature is increasing in China, with more extreme high-temperature years and less low-temperature years. "
   ]
  },
  {
   "cell_type": "markdown",
   "id": "4d6eb2e9",
   "metadata": {},
   "source": [
    "## Data Cleaning"
   ]
  },
  {
   "cell_type": "markdown",
   "id": "457dc0c4",
   "metadata": {},
   "source": [
    "### Basic data cleaning"
   ]
  },
  {
   "cell_type": "code",
   "execution_count": 1,
   "id": "3a77b892",
   "metadata": {},
   "outputs": [],
   "source": [
    "# Imports\n",
    "import geopandas as gpd\n",
    "import pandas as pd\n",
    "import numpy as np\n",
    "import matplotlib.pyplot as plt\n",
    "\n",
    "from shapely.geometry import Point\n",
    "\n",
    "%matplotlib inline\n",
    "# activate plot theme\n",
    "import qeds\n",
    "#qeds.themes.mpl_style();\n",
    "\n",
    "# Read dataset\n",
    "df = pd.read_csv('/Users/booker/Desktop/ECO225Project/Data/GlobalLandTemperaturesByCity.csv')"
   ]
  },
  {
   "cell_type": "code",
   "execution_count": 2,
   "id": "0ebc3cfd",
   "metadata": {},
   "outputs": [
    {
     "name": "stdout",
     "output_type": "stream",
     "text": [
      "dt                                    0\n",
      "AverageTemperature               364130\n",
      "AverageTemperatureUncertainty    364130\n",
      "City                                  0\n",
      "Country                               0\n",
      "Latitude                              0\n",
      "Longitude                             0\n",
      "dtype: int64\n"
     ]
    }
   ],
   "source": [
    "# Check missing values\n",
    "print(df.isnull().sum())\n",
    "\n",
    "# Replacing missing values (not dropping since we will calculate the temperature change in the later section)\n",
    "df['AverageTemperature'].interpolate(method='linear', inplace=True)"
   ]
  },
  {
   "cell_type": "markdown",
   "id": "54aee7c6",
   "metadata": {},
   "source": [
    "We will first convert date to year for a easier calculation and groupby in the following steps."
   ]
  },
  {
   "cell_type": "code",
   "execution_count": 3,
   "id": "0e48c27a",
   "metadata": {},
   "outputs": [],
   "source": [
    "# Convert all dates\n",
    "df['Date'] = pd.to_datetime(df.dt)\n",
    "df.drop(columns = ['dt'], axis = 1, inplace = True)\n",
    "df['Year'] = df['Date'].dt.year"
   ]
  },
  {
   "cell_type": "markdown",
   "id": "40ebe5da",
   "metadata": {},
   "source": [
    "### Map"
   ]
  },
  {
   "cell_type": "code",
   "execution_count": 4,
   "id": "e980a083",
   "metadata": {},
   "outputs": [],
   "source": [
    "# Convert numerical latitude and longitude to float type\n",
    "to_float = lambda x: float(x[:-1])\n",
    "df['Latitude'] = df['Latitude'].apply(to_float)\n",
    "df['Longitude'] = df['Longitude'].apply(to_float)"
   ]
  },
  {
   "cell_type": "code",
   "execution_count": 5,
   "id": "e7c7d5b2",
   "metadata": {},
   "outputs": [
    {
     "data": {
      "text/html": [
       "<div>\n",
       "<style scoped>\n",
       "    .dataframe tbody tr th:only-of-type {\n",
       "        vertical-align: middle;\n",
       "    }\n",
       "\n",
       "    .dataframe tbody tr th {\n",
       "        vertical-align: top;\n",
       "    }\n",
       "\n",
       "    .dataframe thead th {\n",
       "        text-align: right;\n",
       "    }\n",
       "</style>\n",
       "<table border=\"1\" class=\"dataframe\">\n",
       "  <thead>\n",
       "    <tr style=\"text-align: right;\">\n",
       "      <th></th>\n",
       "      <th>AverageTemperature</th>\n",
       "      <th>AverageTemperatureUncertainty</th>\n",
       "      <th>City</th>\n",
       "      <th>Country</th>\n",
       "      <th>Latitude</th>\n",
       "      <th>Longitude</th>\n",
       "      <th>Date</th>\n",
       "      <th>Year</th>\n",
       "      <th>Coordinates</th>\n",
       "    </tr>\n",
       "  </thead>\n",
       "  <tbody>\n",
       "    <tr>\n",
       "      <th>0</th>\n",
       "      <td>6.068</td>\n",
       "      <td>1.737</td>\n",
       "      <td>Århus</td>\n",
       "      <td>Denmark</td>\n",
       "      <td>57.05</td>\n",
       "      <td>10.33</td>\n",
       "      <td>1743-11-01</td>\n",
       "      <td>1743</td>\n",
       "      <td>POINT (10.33000 57.05000)</td>\n",
       "    </tr>\n",
       "    <tr>\n",
       "      <th>1</th>\n",
       "      <td>6.012</td>\n",
       "      <td>NaN</td>\n",
       "      <td>Århus</td>\n",
       "      <td>Denmark</td>\n",
       "      <td>57.05</td>\n",
       "      <td>10.33</td>\n",
       "      <td>1743-12-01</td>\n",
       "      <td>1743</td>\n",
       "      <td>POINT (10.33000 57.05000)</td>\n",
       "    </tr>\n",
       "    <tr>\n",
       "      <th>2</th>\n",
       "      <td>5.956</td>\n",
       "      <td>NaN</td>\n",
       "      <td>Århus</td>\n",
       "      <td>Denmark</td>\n",
       "      <td>57.05</td>\n",
       "      <td>10.33</td>\n",
       "      <td>1744-01-01</td>\n",
       "      <td>1744</td>\n",
       "      <td>POINT (10.33000 57.05000)</td>\n",
       "    </tr>\n",
       "    <tr>\n",
       "      <th>3</th>\n",
       "      <td>5.900</td>\n",
       "      <td>NaN</td>\n",
       "      <td>Århus</td>\n",
       "      <td>Denmark</td>\n",
       "      <td>57.05</td>\n",
       "      <td>10.33</td>\n",
       "      <td>1744-02-01</td>\n",
       "      <td>1744</td>\n",
       "      <td>POINT (10.33000 57.05000)</td>\n",
       "    </tr>\n",
       "    <tr>\n",
       "      <th>4</th>\n",
       "      <td>5.844</td>\n",
       "      <td>NaN</td>\n",
       "      <td>Århus</td>\n",
       "      <td>Denmark</td>\n",
       "      <td>57.05</td>\n",
       "      <td>10.33</td>\n",
       "      <td>1744-03-01</td>\n",
       "      <td>1744</td>\n",
       "      <td>POINT (10.33000 57.05000)</td>\n",
       "    </tr>\n",
       "    <tr>\n",
       "      <th>...</th>\n",
       "      <td>...</td>\n",
       "      <td>...</td>\n",
       "      <td>...</td>\n",
       "      <td>...</td>\n",
       "      <td>...</td>\n",
       "      <td>...</td>\n",
       "      <td>...</td>\n",
       "      <td>...</td>\n",
       "      <td>...</td>\n",
       "    </tr>\n",
       "    <tr>\n",
       "      <th>8599207</th>\n",
       "      <td>11.464</td>\n",
       "      <td>0.236</td>\n",
       "      <td>Zwolle</td>\n",
       "      <td>Netherlands</td>\n",
       "      <td>52.24</td>\n",
       "      <td>5.26</td>\n",
       "      <td>2013-05-01</td>\n",
       "      <td>2013</td>\n",
       "      <td>POINT (5.26000 52.24000)</td>\n",
       "    </tr>\n",
       "    <tr>\n",
       "      <th>8599208</th>\n",
       "      <td>15.043</td>\n",
       "      <td>0.261</td>\n",
       "      <td>Zwolle</td>\n",
       "      <td>Netherlands</td>\n",
       "      <td>52.24</td>\n",
       "      <td>5.26</td>\n",
       "      <td>2013-06-01</td>\n",
       "      <td>2013</td>\n",
       "      <td>POINT (5.26000 52.24000)</td>\n",
       "    </tr>\n",
       "    <tr>\n",
       "      <th>8599209</th>\n",
       "      <td>18.775</td>\n",
       "      <td>0.193</td>\n",
       "      <td>Zwolle</td>\n",
       "      <td>Netherlands</td>\n",
       "      <td>52.24</td>\n",
       "      <td>5.26</td>\n",
       "      <td>2013-07-01</td>\n",
       "      <td>2013</td>\n",
       "      <td>POINT (5.26000 52.24000)</td>\n",
       "    </tr>\n",
       "    <tr>\n",
       "      <th>8599210</th>\n",
       "      <td>18.025</td>\n",
       "      <td>0.298</td>\n",
       "      <td>Zwolle</td>\n",
       "      <td>Netherlands</td>\n",
       "      <td>52.24</td>\n",
       "      <td>5.26</td>\n",
       "      <td>2013-08-01</td>\n",
       "      <td>2013</td>\n",
       "      <td>POINT (5.26000 52.24000)</td>\n",
       "    </tr>\n",
       "    <tr>\n",
       "      <th>8599211</th>\n",
       "      <td>18.025</td>\n",
       "      <td>NaN</td>\n",
       "      <td>Zwolle</td>\n",
       "      <td>Netherlands</td>\n",
       "      <td>52.24</td>\n",
       "      <td>5.26</td>\n",
       "      <td>2013-09-01</td>\n",
       "      <td>2013</td>\n",
       "      <td>POINT (5.26000 52.24000)</td>\n",
       "    </tr>\n",
       "  </tbody>\n",
       "</table>\n",
       "<p>8599212 rows × 9 columns</p>\n",
       "</div>"
      ],
      "text/plain": [
       "         AverageTemperature  AverageTemperatureUncertainty    City  \\\n",
       "0                     6.068                          1.737   Århus   \n",
       "1                     6.012                            NaN   Århus   \n",
       "2                     5.956                            NaN   Århus   \n",
       "3                     5.900                            NaN   Århus   \n",
       "4                     5.844                            NaN   Århus   \n",
       "...                     ...                            ...     ...   \n",
       "8599207              11.464                          0.236  Zwolle   \n",
       "8599208              15.043                          0.261  Zwolle   \n",
       "8599209              18.775                          0.193  Zwolle   \n",
       "8599210              18.025                          0.298  Zwolle   \n",
       "8599211              18.025                            NaN  Zwolle   \n",
       "\n",
       "             Country  Latitude  Longitude       Date  Year  \\\n",
       "0            Denmark     57.05      10.33 1743-11-01  1743   \n",
       "1            Denmark     57.05      10.33 1743-12-01  1743   \n",
       "2            Denmark     57.05      10.33 1744-01-01  1744   \n",
       "3            Denmark     57.05      10.33 1744-02-01  1744   \n",
       "4            Denmark     57.05      10.33 1744-03-01  1744   \n",
       "...              ...       ...        ...        ...   ...   \n",
       "8599207  Netherlands     52.24       5.26 2013-05-01  2013   \n",
       "8599208  Netherlands     52.24       5.26 2013-06-01  2013   \n",
       "8599209  Netherlands     52.24       5.26 2013-07-01  2013   \n",
       "8599210  Netherlands     52.24       5.26 2013-08-01  2013   \n",
       "8599211  Netherlands     52.24       5.26 2013-09-01  2013   \n",
       "\n",
       "                       Coordinates  \n",
       "0        POINT (10.33000 57.05000)  \n",
       "1        POINT (10.33000 57.05000)  \n",
       "2        POINT (10.33000 57.05000)  \n",
       "3        POINT (10.33000 57.05000)  \n",
       "4        POINT (10.33000 57.05000)  \n",
       "...                            ...  \n",
       "8599207   POINT (5.26000 52.24000)  \n",
       "8599208   POINT (5.26000 52.24000)  \n",
       "8599209   POINT (5.26000 52.24000)  \n",
       "8599210   POINT (5.26000 52.24000)  \n",
       "8599211   POINT (5.26000 52.24000)  \n",
       "\n",
       "[8599212 rows x 9 columns]"
      ]
     },
     "execution_count": 5,
     "metadata": {},
     "output_type": "execute_result"
    }
   ],
   "source": [
    "# \n",
    "df[\"Coordinates\"] = list(zip(df.Longitude, df.Latitude))\n",
    "df[\"Coordinates\"] = df[\"Coordinates\"].apply(Point)\n",
    "gdf = gpd.GeoDataFrame(df, geometry=\"Coordinates\")\n",
    "gdf"
   ]
  },
  {
   "cell_type": "code",
   "execution_count": 6,
   "id": "d6f1d8f2",
   "metadata": {},
   "outputs": [
    {
     "ename": "ValueError",
     "evalue": "Unknown column Coordinates",
     "output_type": "error",
     "traceback": [
      "\u001b[0;31m---------------------------------------------------------------------------\u001b[0m",
      "\u001b[0;31mKeyError\u001b[0m                                  Traceback (most recent call last)",
      "\u001b[0;32m~/opt/anaconda3/lib/python3.9/site-packages/pandas/core/indexes/base.py\u001b[0m in \u001b[0;36mget_loc\u001b[0;34m(self, key, method, tolerance)\u001b[0m\n\u001b[1;32m   3360\u001b[0m             \u001b[0;32mtry\u001b[0m\u001b[0;34m:\u001b[0m\u001b[0;34m\u001b[0m\u001b[0;34m\u001b[0m\u001b[0m\n\u001b[0;32m-> 3361\u001b[0;31m                 \u001b[0;32mreturn\u001b[0m \u001b[0mself\u001b[0m\u001b[0;34m.\u001b[0m\u001b[0m_engine\u001b[0m\u001b[0;34m.\u001b[0m\u001b[0mget_loc\u001b[0m\u001b[0;34m(\u001b[0m\u001b[0mcasted_key\u001b[0m\u001b[0;34m)\u001b[0m\u001b[0;34m\u001b[0m\u001b[0;34m\u001b[0m\u001b[0m\n\u001b[0m\u001b[1;32m   3362\u001b[0m             \u001b[0;32mexcept\u001b[0m \u001b[0mKeyError\u001b[0m \u001b[0;32mas\u001b[0m \u001b[0merr\u001b[0m\u001b[0;34m:\u001b[0m\u001b[0;34m\u001b[0m\u001b[0;34m\u001b[0m\u001b[0m\n",
      "\u001b[0;32m~/opt/anaconda3/lib/python3.9/site-packages/pandas/_libs/index.pyx\u001b[0m in \u001b[0;36mpandas._libs.index.IndexEngine.get_loc\u001b[0;34m()\u001b[0m\n",
      "\u001b[0;32m~/opt/anaconda3/lib/python3.9/site-packages/pandas/_libs/index.pyx\u001b[0m in \u001b[0;36mpandas._libs.index.IndexEngine.get_loc\u001b[0;34m()\u001b[0m\n",
      "\u001b[0;32mpandas/_libs/hashtable_class_helper.pxi\u001b[0m in \u001b[0;36mpandas._libs.hashtable.PyObjectHashTable.get_item\u001b[0;34m()\u001b[0m\n",
      "\u001b[0;32mpandas/_libs/hashtable_class_helper.pxi\u001b[0m in \u001b[0;36mpandas._libs.hashtable.PyObjectHashTable.get_item\u001b[0;34m()\u001b[0m\n",
      "\u001b[0;31mKeyError\u001b[0m: 'Coordinates'",
      "\nThe above exception was the direct cause of the following exception:\n",
      "\u001b[0;31mKeyError\u001b[0m                                  Traceback (most recent call last)",
      "\u001b[0;32m~/opt/anaconda3/lib/python3.9/site-packages/geopandas/geodataframe.py\u001b[0m in \u001b[0;36mset_geometry\u001b[0;34m(self, col, drop, inplace, crs)\u001b[0m\n\u001b[1;32m    316\u001b[0m             \u001b[0;32mtry\u001b[0m\u001b[0;34m:\u001b[0m\u001b[0;34m\u001b[0m\u001b[0;34m\u001b[0m\u001b[0m\n\u001b[0;32m--> 317\u001b[0;31m                 \u001b[0mlevel\u001b[0m \u001b[0;34m=\u001b[0m \u001b[0mframe\u001b[0m\u001b[0;34m[\u001b[0m\u001b[0mcol\u001b[0m\u001b[0;34m]\u001b[0m\u001b[0;34m\u001b[0m\u001b[0;34m\u001b[0m\u001b[0m\n\u001b[0m\u001b[1;32m    318\u001b[0m             \u001b[0;32mexcept\u001b[0m \u001b[0mKeyError\u001b[0m\u001b[0;34m:\u001b[0m\u001b[0;34m\u001b[0m\u001b[0;34m\u001b[0m\u001b[0m\n",
      "\u001b[0;32m~/opt/anaconda3/lib/python3.9/site-packages/geopandas/geodataframe.py\u001b[0m in \u001b[0;36m__getitem__\u001b[0;34m(self, key)\u001b[0m\n\u001b[1;32m   1414\u001b[0m         \"\"\"\n\u001b[0;32m-> 1415\u001b[0;31m         \u001b[0mresult\u001b[0m \u001b[0;34m=\u001b[0m \u001b[0msuper\u001b[0m\u001b[0;34m(\u001b[0m\u001b[0;34m)\u001b[0m\u001b[0;34m.\u001b[0m\u001b[0m__getitem__\u001b[0m\u001b[0;34m(\u001b[0m\u001b[0mkey\u001b[0m\u001b[0;34m)\u001b[0m\u001b[0;34m\u001b[0m\u001b[0;34m\u001b[0m\u001b[0m\n\u001b[0m\u001b[1;32m   1416\u001b[0m         \u001b[0mgeo_col\u001b[0m \u001b[0;34m=\u001b[0m \u001b[0mself\u001b[0m\u001b[0;34m.\u001b[0m\u001b[0m_geometry_column_name\u001b[0m\u001b[0;34m\u001b[0m\u001b[0;34m\u001b[0m\u001b[0m\n",
      "\u001b[0;32m~/opt/anaconda3/lib/python3.9/site-packages/pandas/core/frame.py\u001b[0m in \u001b[0;36m__getitem__\u001b[0;34m(self, key)\u001b[0m\n\u001b[1;32m   3457\u001b[0m                 \u001b[0;32mreturn\u001b[0m \u001b[0mself\u001b[0m\u001b[0;34m.\u001b[0m\u001b[0m_getitem_multilevel\u001b[0m\u001b[0;34m(\u001b[0m\u001b[0mkey\u001b[0m\u001b[0;34m)\u001b[0m\u001b[0;34m\u001b[0m\u001b[0;34m\u001b[0m\u001b[0m\n\u001b[0;32m-> 3458\u001b[0;31m             \u001b[0mindexer\u001b[0m \u001b[0;34m=\u001b[0m \u001b[0mself\u001b[0m\u001b[0;34m.\u001b[0m\u001b[0mcolumns\u001b[0m\u001b[0;34m.\u001b[0m\u001b[0mget_loc\u001b[0m\u001b[0;34m(\u001b[0m\u001b[0mkey\u001b[0m\u001b[0;34m)\u001b[0m\u001b[0;34m\u001b[0m\u001b[0;34m\u001b[0m\u001b[0m\n\u001b[0m\u001b[1;32m   3459\u001b[0m             \u001b[0;32mif\u001b[0m \u001b[0mis_integer\u001b[0m\u001b[0;34m(\u001b[0m\u001b[0mindexer\u001b[0m\u001b[0;34m)\u001b[0m\u001b[0;34m:\u001b[0m\u001b[0;34m\u001b[0m\u001b[0;34m\u001b[0m\u001b[0m\n",
      "\u001b[0;32m~/opt/anaconda3/lib/python3.9/site-packages/pandas/core/indexes/base.py\u001b[0m in \u001b[0;36mget_loc\u001b[0;34m(self, key, method, tolerance)\u001b[0m\n\u001b[1;32m   3362\u001b[0m             \u001b[0;32mexcept\u001b[0m \u001b[0mKeyError\u001b[0m \u001b[0;32mas\u001b[0m \u001b[0merr\u001b[0m\u001b[0;34m:\u001b[0m\u001b[0;34m\u001b[0m\u001b[0;34m\u001b[0m\u001b[0m\n\u001b[0;32m-> 3363\u001b[0;31m                 \u001b[0;32mraise\u001b[0m \u001b[0mKeyError\u001b[0m\u001b[0;34m(\u001b[0m\u001b[0mkey\u001b[0m\u001b[0;34m)\u001b[0m \u001b[0;32mfrom\u001b[0m \u001b[0merr\u001b[0m\u001b[0;34m\u001b[0m\u001b[0;34m\u001b[0m\u001b[0m\n\u001b[0m\u001b[1;32m   3364\u001b[0m \u001b[0;34m\u001b[0m\u001b[0m\n",
      "\u001b[0;31mKeyError\u001b[0m: 'Coordinates'",
      "\nDuring handling of the above exception, another exception occurred:\n",
      "\u001b[0;31mValueError\u001b[0m                                Traceback (most recent call last)",
      "\u001b[0;32m/var/folders/ht/lwtbbmwn27j0wj2cjvlfjk2m0000gn/T/ipykernel_57745/1964432292.py\u001b[0m in \u001b[0;36m<module>\u001b[0;34m\u001b[0m\n\u001b[1;32m      3\u001b[0m \u001b[0;31m# grouped_2012[\"Coordinates\"] = list(zip(df.Longitude, df.Latitude))\u001b[0m\u001b[0;34m\u001b[0m\u001b[0;34m\u001b[0m\u001b[0m\n\u001b[1;32m      4\u001b[0m \u001b[0;31m# grouped_2012[\"Coordinates\"] = grouped_2012[\"Coordinates\"].apply(Point)\u001b[0m\u001b[0;34m\u001b[0m\u001b[0;34m\u001b[0m\u001b[0m\n\u001b[0;32m----> 5\u001b[0;31m \u001b[0mgdf\u001b[0m \u001b[0;34m=\u001b[0m \u001b[0mgpd\u001b[0m\u001b[0;34m.\u001b[0m\u001b[0mGeoDataFrame\u001b[0m\u001b[0;34m(\u001b[0m\u001b[0mgrouped_2012\u001b[0m\u001b[0;34m,\u001b[0m \u001b[0mgeometry\u001b[0m\u001b[0;34m=\u001b[0m\u001b[0;34m\"Coordinates\"\u001b[0m\u001b[0;34m)\u001b[0m\u001b[0;34m\u001b[0m\u001b[0;34m\u001b[0m\u001b[0m\n\u001b[0m\u001b[1;32m      6\u001b[0m \u001b[0mgdf\u001b[0m\u001b[0;34m.\u001b[0m\u001b[0mset_index\u001b[0m\u001b[0;34m(\u001b[0m\u001b[0;34m\"Country\"\u001b[0m\u001b[0;34m)\u001b[0m\u001b[0;34m.\u001b[0m\u001b[0mloc\u001b[0m\u001b[0;34m[\u001b[0m\u001b[0;34m\"China\"\u001b[0m\u001b[0;34m]\u001b[0m\u001b[0;34m\u001b[0m\u001b[0;34m\u001b[0m\u001b[0m\n\u001b[1;32m      7\u001b[0m \u001b[0mgpb2012\u001b[0m \u001b[0;34m=\u001b[0m \u001b[0mgdf\u001b[0m\u001b[0;34m.\u001b[0m\u001b[0mgroupby\u001b[0m\u001b[0;34m(\u001b[0m\u001b[0;34m\"City\"\u001b[0m\u001b[0;34m)\u001b[0m\u001b[0;34m.\u001b[0m\u001b[0mmean\u001b[0m\u001b[0;34m(\u001b[0m\u001b[0;34m)\u001b[0m\u001b[0;34m\u001b[0m\u001b[0;34m\u001b[0m\u001b[0m\n",
      "\u001b[0;32m~/opt/anaconda3/lib/python3.9/site-packages/geopandas/geodataframe.py\u001b[0m in \u001b[0;36m__init__\u001b[0;34m(self, data, geometry, crs, *args, **kwargs)\u001b[0m\n\u001b[1;32m    186\u001b[0m                 \u001b[0;32mraise\u001b[0m \u001b[0mValueError\u001b[0m\u001b[0;34m(\u001b[0m\u001b[0mcrs_mismatch_error\u001b[0m\u001b[0;34m)\u001b[0m\u001b[0;34m\u001b[0m\u001b[0;34m\u001b[0m\u001b[0m\n\u001b[1;32m    187\u001b[0m \u001b[0;34m\u001b[0m\u001b[0m\n\u001b[0;32m--> 188\u001b[0;31m             \u001b[0mself\u001b[0m\u001b[0;34m.\u001b[0m\u001b[0mset_geometry\u001b[0m\u001b[0;34m(\u001b[0m\u001b[0mgeometry\u001b[0m\u001b[0;34m,\u001b[0m \u001b[0minplace\u001b[0m\u001b[0;34m=\u001b[0m\u001b[0;32mTrue\u001b[0m\u001b[0;34m,\u001b[0m \u001b[0mcrs\u001b[0m\u001b[0;34m=\u001b[0m\u001b[0mcrs\u001b[0m\u001b[0;34m)\u001b[0m\u001b[0;34m\u001b[0m\u001b[0;34m\u001b[0m\u001b[0m\n\u001b[0m\u001b[1;32m    189\u001b[0m \u001b[0;34m\u001b[0m\u001b[0m\n\u001b[1;32m    190\u001b[0m         \u001b[0;32mif\u001b[0m \u001b[0mgeometry\u001b[0m \u001b[0;32mis\u001b[0m \u001b[0;32mNone\u001b[0m \u001b[0;32mand\u001b[0m \u001b[0mcrs\u001b[0m\u001b[0;34m:\u001b[0m\u001b[0;34m\u001b[0m\u001b[0;34m\u001b[0m\u001b[0m\n",
      "\u001b[0;32m~/opt/anaconda3/lib/python3.9/site-packages/geopandas/geodataframe.py\u001b[0m in \u001b[0;36mset_geometry\u001b[0;34m(self, col, drop, inplace, crs)\u001b[0m\n\u001b[1;32m    317\u001b[0m                 \u001b[0mlevel\u001b[0m \u001b[0;34m=\u001b[0m \u001b[0mframe\u001b[0m\u001b[0;34m[\u001b[0m\u001b[0mcol\u001b[0m\u001b[0;34m]\u001b[0m\u001b[0;34m\u001b[0m\u001b[0;34m\u001b[0m\u001b[0m\n\u001b[1;32m    318\u001b[0m             \u001b[0;32mexcept\u001b[0m \u001b[0mKeyError\u001b[0m\u001b[0;34m:\u001b[0m\u001b[0;34m\u001b[0m\u001b[0;34m\u001b[0m\u001b[0m\n\u001b[0;32m--> 319\u001b[0;31m                 \u001b[0;32mraise\u001b[0m \u001b[0mValueError\u001b[0m\u001b[0;34m(\u001b[0m\u001b[0;34m\"Unknown column %s\"\u001b[0m \u001b[0;34m%\u001b[0m \u001b[0mcol\u001b[0m\u001b[0;34m)\u001b[0m\u001b[0;34m\u001b[0m\u001b[0;34m\u001b[0m\u001b[0m\n\u001b[0m\u001b[1;32m    320\u001b[0m             \u001b[0;32mexcept\u001b[0m \u001b[0mException\u001b[0m\u001b[0;34m:\u001b[0m\u001b[0;34m\u001b[0m\u001b[0;34m\u001b[0m\u001b[0m\n\u001b[1;32m    321\u001b[0m                 \u001b[0;32mraise\u001b[0m\u001b[0;34m\u001b[0m\u001b[0;34m\u001b[0m\u001b[0m\n",
      "\u001b[0;31mValueError\u001b[0m: Unknown column Coordinates"
     ]
    }
   ],
   "source": [
    "grouped_2012 = df.loc[df['Year'] == 2012].groupby('City').mean().reset_index()\n",
    "grouped_2012 = pd.merge(grouped_2012, df[['City', 'Country']], on='City')\n",
    "# grouped_2012[\"Coordinates\"] = list(zip(df.Longitude, df.Latitude))\n",
    "# grouped_2012[\"Coordinates\"] = grouped_2012[\"Coordinates\"].apply(Point)\n",
    "gdf = gpd.GeoDataFrame(grouped_2012, geometry=\"Coordinates\")\n",
    "gdf.set_index(\"Country\").loc[\"China\"]\n",
    "gpb2012 = gdf.groupby(\"City\").mean()\n",
    "gpb2012.reset_index(inplace=True)"
   ]
  },
  {
   "cell_type": "code",
   "execution_count": null,
   "id": "036f4e93",
   "metadata": {},
   "outputs": [],
   "source": [
    "china = gpd.read_file('/Users/booker/Desktop/gadm36_CHN_shp/')\n",
    "\n",
    "# Filter the shapefile to only include administrative boundaries for China\n",
    "china = china[china['NAME_0'] == 'China']\n",
    "\n",
    "# Merge the shapefile with your data on the appropriate column\n",
    "merged_data = china.merge(gpb2012, left_on='NAME_2', right_on='City')\n",
    "\n",
    "# Plot the GeoDataFrame\n",
    "ax = merged_data.drop_duplicates().plot(column='AverageTemperature', cmap='coolwarm', legend=True, figsize=(10, 10))\n",
    "ax.set_axis_off()\n",
    "plt.show()"
   ]
  },
  {
   "cell_type": "markdown",
   "id": "ee945f6c",
   "metadata": {},
   "source": [
    "### Line Plots data cleaning\n",
    "Group by China and year to get national average temperature, and the filter the year into three periods to create three datasets used to plot the line plots."
   ]
  },
  {
   "cell_type": "code",
   "execution_count": null,
   "id": "f1481a28",
   "metadata": {},
   "outputs": [],
   "source": [
    "# Group by China and year to get national average temperature\n",
    "df_china = df[df['Country'] == 'China']\n",
    "grouped_na = df_china.groupby('Year').mean().reset_index()\n",
    "grouped_na"
   ]
  },
  {
   "cell_type": "code",
   "execution_count": null,
   "id": "1091c7d0",
   "metadata": {},
   "outputs": [],
   "source": [
    "# Filter the data to form 3 datasets ranging from different years\n",
    "grouped_na_1 = grouped_na[(grouped_na['Year'] >= 1950) & (grouped_na['Year'] <= 1978)]\n",
    "grouped_na_2 = grouped_na[(grouped_na['Year'] >= 1979) & (grouped_na['Year'] <= 2012)]\n",
    "grouped_na_3 = grouped_na[(grouped_na['Year'] >= 1950) & (grouped_na['Year'] <= 2012)]"
   ]
  },
  {
   "cell_type": "markdown",
   "id": "c9b58dab",
   "metadata": {},
   "source": [
    "### Bar Charts data cleaning\n",
    "We first group data by city and year, and then find the top 10 cities with the largest and lowest temperature increased from 1950 to 2012. Then we use bar charts to plot the data."
   ]
  },
  {
   "cell_type": "code",
   "execution_count": null,
   "id": "819b4e62",
   "metadata": {},
   "outputs": [],
   "source": [
    "# Select data from 1950 to 2012\n",
    "grouped_time = df_china[(df_china['Year'] >= 1950) & (df_china['Year'] <= 2012)]\n",
    "\n",
    "# Group by City and Year to find the annual average temperature for each city\n",
    "grouped_citi = grouped_time.groupby(['City', 'Year'])['AverageTemperature'].mean().reset_index()\n",
    "grouped_citi"
   ]
  },
  {
   "cell_type": "code",
   "execution_count": null,
   "id": "fbf63004",
   "metadata": {},
   "outputs": [],
   "source": [
    "# Find the top 10 cities with the largest temperature increased from 1950 to 2012\n",
    "grouped_citi.set_index(['City', 'Year'], inplace=True)\n",
    "\n",
    "# Write the function that compute the percentage temperature change\n",
    "def difference(df, first, last, column_name):\n",
    "    for row in df.iterrows():\n",
    "        index_value, columns_value = row\n",
    "        start = df.loc[index_value[0], first]['AverageTemperature']\n",
    "        end = df.loc[index_value[0], last]['AverageTemperature']\n",
    "        cleaneddata = float((start - end)/end * 100)\n",
    "        df.at[index_value, column_name] = cleaneddata\n",
    "        \n",
    "# Apply the function to compute the outcome\n",
    "difference(grouped_citi, 2012, 1950, 'TemperaturePctChange')"
   ]
  },
  {
   "cell_type": "code",
   "execution_count": null,
   "id": "126402f3",
   "metadata": {},
   "outputs": [],
   "source": [
    "# Find the top 10 cities with the largest temperature increased from 1950 to 2012\n",
    "largest_city = grouped_citi.sort_values(by='TemperaturePctChange', ascending=False)\n",
    "top_cities = largest_city.reset_index().drop_duplicates(subset='City')\n",
    "top_cities.set_index('Year', inplace=True)\n",
    "top_cities_1950 = top_cities.loc[1950].head(10)\n",
    "top_cities_1950"
   ]
  },
  {
   "cell_type": "code",
   "execution_count": null,
   "id": "13ac84b3",
   "metadata": {},
   "outputs": [],
   "source": [
    "# Find the top 10 cities with the lowest temperature increased from 1950 to 2012\n",
    "lowest_city = grouped_citi.sort_values(by='TemperaturePctChange', ascending=True)\n",
    "low_cities = lowest_city.reset_index().drop_duplicates(subset='City')\n",
    "low_cities.set_index('Year', inplace=True)\n",
    "low_cities_1950 = low_cities.loc[1950].head(10)\n",
    "low_cities_1950"
   ]
  },
  {
   "cell_type": "markdown",
   "id": "9f20f7e0",
   "metadata": {},
   "source": [
    "### Pivot table \n",
    "Create a pivot table to plot scatter plots for the top 4 cities with the largest and lowest temperature increased from 1950 to 2012. In addition, we can use bar charts to show the trend of the number of cities that exceeds 23 degrees and below 0 degrees under a 5 years interval."
   ]
  },
  {
   "cell_type": "code",
   "execution_count": null,
   "id": "4f5fd078",
   "metadata": {},
   "outputs": [],
   "source": [
    "# Create a pivot table\n",
    "city_pivot = grouped_citi.pivot_table(values='AverageTemperature', index='Year', columns='City')\n",
    "city_pivot"
   ]
  },
  {
   "cell_type": "code",
   "execution_count": null,
   "id": "77fcbae8",
   "metadata": {},
   "outputs": [],
   "source": [
    "# Create a column that calculates the annual percentage change from 1950 to 2012\n",
    "mean_pivot = city_pivot.reset_index()\n",
    "mean_pivot[\"mean_temp_change\"] = mean_pivot.mean(axis=1)\n",
    "\n",
    "# Filter the data from 1950 to 1978\n",
    "mean_pivot_before = mean_pivot[mean_pivot['Year'] >= 1950]\n",
    "mean_pivot_before = mean_pivot_before[mean_pivot_before['Year'] <= 1978]\n",
    "\n",
    "# Filter the data from 1979 to 2012\n",
    "mean_pivot_after = mean_pivot[mean_pivot['Year'] >= 1979]\n",
    "mean_pivot_after = mean_pivot_after[mean_pivot_after['Year'] <= 2012]"
   ]
  },
  {
   "cell_type": "markdown",
   "id": "d47e660a",
   "metadata": {},
   "source": [
    "## Summary Statistics Tables"
   ]
  },
  {
   "cell_type": "markdown",
   "id": "7856a99e",
   "metadata": {},
   "source": [
    "### Table 1: Average temperature from 1950 to 1978\n",
    "In this table, we can see that the average temperature from 1950 to 1978 is around 12.94 degrees, with a standard deviation of 0.32 degrees. The maximum temperature is 13.54 degrees, and the minimum temperature is 12.27 degrees. We can then compare the average temperature, maximum and minimum temperature of the temperature from 1979 to 2012 to see if there's a warming China."
   ]
  },
  {
   "cell_type": "code",
   "execution_count": null,
   "id": "aa16e7e9",
   "metadata": {},
   "outputs": [],
   "source": [
    "# Describing the average temperature and average temperature uncertainty from 1950 to 1978\n",
    "grouped_na_1.describe()"
   ]
  },
  {
   "cell_type": "markdown",
   "id": "ab0f806b",
   "metadata": {},
   "source": [
    "### Table 2: Average temperature from 1950 to 1978\n",
    "In this table, we can see that the average temperature from 1979 to 2012 is around 13.42 degrees, with a standard deviation of 0.42 degrees. The maximum temperature is 14.26 degrees, and the minimum temperature is 12.50 degrees. All of the indicators suggest that there is a increasing temperature trend compared to the period of 1950 to 1978. It provides us some insights of the big picture before we plot our graphs."
   ]
  },
  {
   "cell_type": "code",
   "execution_count": null,
   "id": "746f8df5",
   "metadata": {},
   "outputs": [],
   "source": [
    "# Describing the average temperature and average temperature uncertainty from 1979 to 2012\n",
    "grouped_na_2.describe()"
   ]
  },
  {
   "cell_type": "markdown",
   "id": "3cd614fa",
   "metadata": {},
   "source": [
    "### Table 3: Average temperature from 1950 to 2012\n",
    "In this table, we can see that the average temperature from 1950 to 2012 is around 13.20 degrees, with a standard deviation of 0.44 degrees. The maximum temperature is 14.26 degrees, and the minimum temperature is 12.27 degrees."
   ]
  },
  {
   "cell_type": "code",
   "execution_count": null,
   "id": "176a2799",
   "metadata": {},
   "outputs": [],
   "source": [
    "# Describing the average temperature and average temperature uncertainty from 1950 to 2012\n",
    "grouped_na_3.describe()"
   ]
  },
  {
   "cell_type": "markdown",
   "id": "c26f73ea",
   "metadata": {},
   "source": [
    "### Table 4: Top 10 cities with the largest percent change in average temperature\n",
    "We can see the top 10 cities with the largest percent change in average temperature from 1950 to 2012. The maximum annual temperature is 14.70 degrees among those 10 cities, while the lowest annual temperature is -1.62 degrees, with a very high standard deviation of 5.98 degrees. The city with the maximum percent change in annual temperature is 46.29%, showing that there is a huge variation in temperature for that city. It can be the result from global warming and urbanization. "
   ]
  },
  {
   "cell_type": "code",
   "execution_count": null,
   "id": "b0353a1e",
   "metadata": {},
   "outputs": [],
   "source": [
    "top_cities_1950.describe()"
   ]
  },
  {
   "cell_type": "markdown",
   "id": "31dff464",
   "metadata": {},
   "source": [
    "### Table 5: Top 10 cities with the lowest percent change in average temperature\n",
    "We can see the top 10 cities with the lowest percent change in average temperature from 1950 to 2012. The city with the minimum percent change in annual temperature is -4.61%, showing that there is a decrease in temperature for that city. We can also compare the previous graph and conclude that cities are becoming warmer."
   ]
  },
  {
   "cell_type": "code",
   "execution_count": null,
   "id": "456a0497",
   "metadata": {},
   "outputs": [],
   "source": [
    "low_cities_1950.describe()"
   ]
  },
  {
   "cell_type": "markdown",
   "id": "5a5c1488",
   "metadata": {},
   "source": [
    "## Plots, Histograms, Figures"
   ]
  },
  {
   "cell_type": "markdown",
   "id": "01a983fd",
   "metadata": {},
   "source": [
    "### Line Plots\n",
    "\n",
    "In this section, we will first use line plots to demonstrate how the average temperature changed from 1950 to 2013 nationally. \n",
    "\n",
    "Specifically, we will divide the time interval into two periods: 1950 to 1978 and 1979 to 2012. The first period is the founding of the People's Republic of China, whereas the second period is China decided to begin the journey of reforming and opening up. The second period represents the urbanization and fast economic development of China. We will also see the overall picture from 1950 to 2012.\n",
    "\n",
    "From the first graph, titled 'Average Temperature Trend from 1950 to 1978', we can see that the average temperature trend in China is relatively steady and is moving around at 13.0 degrees. This is the period of Chairman Mao Zedong's era, named after the founder of the Communist Party of China. Economic development was unstable and slow due to some policies that were originally aimed to achieve the goal of industrialization. The process of urbanization and modernization was slow. \n",
    "\n",
    "From the second graph, 'Average Temperature Trend from 1979 to 2012', we can see that the average temperature trend in China is increasing. This is the period of the Deng Xiaoping era, named after the second leader that achieved economic recovery and development. He proposed a series of policies that aimed to accelerate the process of industrialization, including one of the most important policies in Chinese history: the Chinese reform. \n",
    "\n",
    "From the third graph, 'Average Temperature Trend from 1950 to 2012', we can see that the average temperature trend in China is increasing. This graph provides us with a clear image of how the average temperature change in China from 1950 to 2012. The temperature is positively correlated with the development of China, including economic development and urbanization. "
   ]
  },
  {
   "cell_type": "code",
   "execution_count": null,
   "id": "f9642a02",
   "metadata": {},
   "outputs": [],
   "source": [
    "# Write function that can generate line plots\n",
    "def plot_lineplot(dataset, title):\n",
    "    plt.figure(figsize=(20, 5))\n",
    "    plt.plot(dataset['Year'], dataset['AverageTemperature'], label='National Average')\n",
    "    plt.xlabel('Year')\n",
    "    plt.ylabel('Average Temperature')\n",
    "    plt.title(title)\n",
    "    plt.grid(linestyle='--', alpha=0.7)\n",
    "    plt.legend()\n",
    "    plt.show()"
   ]
  },
  {
   "cell_type": "code",
   "execution_count": null,
   "id": "bfd05b88",
   "metadata": {},
   "outputs": [],
   "source": [
    "# Plot the graphs\n",
    "plot_lineplot(grouped_na_1, 'Average Temperature Trend from 1950 to 1978')"
   ]
  },
  {
   "cell_type": "code",
   "execution_count": null,
   "id": "50643647",
   "metadata": {},
   "outputs": [],
   "source": [
    "plot_lineplot(grouped_na_2, 'Average Temperature Trend from 1979 to 2012')"
   ]
  },
  {
   "cell_type": "code",
   "execution_count": null,
   "id": "4abb184b",
   "metadata": {},
   "outputs": [],
   "source": [
    "plot_lineplot(grouped_na_3, 'Average Temperature Trend from 1950 to 2012')"
   ]
  },
  {
   "cell_type": "markdown",
   "id": "8cf9fb1a",
   "metadata": {},
   "source": [
    "### Bar charts\n",
    "In this section, we will use bar charts to show the top 10 cities with the largest and lowest average temperature percent changes from 1950 to 2012. These charts will provide insights into how different regions in China have been affected by temperature changes over time.\n",
    "\n",
    "Looking at the bar chart for the top 10 cities with the largest temperature percent changes, we can see that cities such as Yakeshi and Shuangyashan experienced an increase of over 35 percent in annual temperature from 1950 to 2012. In contrast, most other cities experienced an average temperature increase of around 10 percent. These findings indicate that many cities in China are becoming warmer, and some regions are experiencing more significant temperature changes than others.\n",
    "\n",
    "The bar chart for the top 10 cities with the lowest temperature percent changes reveals that cities such as Dunhua and Yanji experienced the lowest percentage change in temperature, but only up to around -4.5%. This suggests that some regions in China may not have experienced significant temperature changes or may have even experienced a decrease in temperature.\n",
    "\n",
    "Overall, these bar charts highlight the different temperature trends observed in various regions of China from 1950 to 2012. They provide further evidence that urbanization and economic development have led to an increase in temperature in many cities in China."
   ]
  },
  {
   "cell_type": "code",
   "execution_count": null,
   "id": "93d8059c",
   "metadata": {},
   "outputs": [],
   "source": [
    "# Plot the graph of largest temperature change between 1950 to 2012\n",
    "plt.figure(figsize=(20, 7))\n",
    "plt.bar(top_cities_1950['City'], top_cities_1950['TemperaturePctChange'])\n",
    "plt.xlabel('City')\n",
    "plt.ylabel('Temperature % Change')\n",
    "plt.title('Top 10 Cities with the Largest Temperature Percent Change from 1950 to 2012')\n",
    "plt.tick_params(axis='x', labelsize=13)\n",
    "plt.show()"
   ]
  },
  {
   "cell_type": "code",
   "execution_count": null,
   "id": "b0a5b516",
   "metadata": {},
   "outputs": [],
   "source": [
    "# Plot the graph of lowest temperature change between 1950 to 2012\n",
    "plt.figure(figsize=(20, 7))\n",
    "plt.bar(low_cities_1950['City'], low_cities_1950['TemperaturePctChange'])\n",
    "plt.xlabel('City')\n",
    "plt.ylabel('Temperature % Change')\n",
    "plt.title('Top 10 Cities with the Lowest Temperature Percent Change from 1950 to 2012')\n",
    "plt.tick_params(axis='x', labelsize=13)\n",
    "plt.show()"
   ]
  },
  {
   "cell_type": "markdown",
   "id": "d897991a",
   "metadata": {},
   "source": [
    "The graphs below illustrate the trend of the number of cities with annual temperatures exceeding 23 degrees and below 0 degrees, over a 5-year interval from 1950 to 2010.\n",
    "\n",
    "The first graph indicates an upward trend, which suggests that the number of cities with an annual temperature of 23 degrees or higher has increased steadily over time. This trend is particularly prominent after 1980, coinciding with China's urbanization and economic growth. The graph provides further evidence that rapid urbanization has contributed to the accelerated increase in temperature.\n",
    "\n",
    "The second graph shows a decreasing trend, which implies that fewer cities have an annual temperature of 0 degrees or lower. This suggests that all cities in China are experiencing warming temperatures, rather than cooling. Once again, the graph highlights the impact of urbanization and economic growth on temperature changes in China, as cities become increasingly hotter."
   ]
  },
  {
   "cell_type": "code",
   "execution_count": null,
   "id": "83281aec",
   "metadata": {},
   "outputs": [],
   "source": [
    "# Count the number of cities that is greater than 23 degrees\n",
    "filt_temp = city_pivot[city_pivot > 23]\n",
    "filt_count = filt_temp.count(axis=1)\n",
    "grouped_count = filt_count.groupby(lambda x: x // 5 * 5).sum()\n",
    "plt.figure(figsize=(20,7))\n",
    "grouped_count.plot(kind='bar')\n",
    "plt.title('Number of Cities greater than 23 degrees from 1950 to 2012')\n",
    "\n",
    "plt.show()"
   ]
  },
  {
   "cell_type": "code",
   "execution_count": null,
   "id": "80ae5c5a",
   "metadata": {},
   "outputs": [],
   "source": [
    "# Count the number of cities that is lower than 0 degrees\n",
    "filt_temp = city_pivot[city_pivot < 0]\n",
    "filt_count = filt_temp.count(axis=1)\n",
    "grouped_count = filt_count.groupby(lambda x: x // 5 * 5).sum()\n",
    "plt.figure(figsize=(20,7))\n",
    "grouped_count.plot(kind='bar')\n",
    "plt.title('Number of Cities less than 0 degrees from 1950 to 2012')\n",
    "\n",
    "plt.show()"
   ]
  },
  {
   "cell_type": "markdown",
   "id": "f31800a4",
   "metadata": {},
   "source": [
    "### Scatter Plots\n",
    "We now focus on examining the cities with the largest percentage change in average temperature. The following four graphs display the top four cities with the highest percentage change in average temperature. We observe a strong positive relationship between time and annual temperature change for each of these cities. This is consistent with the overall trend in China, where the average annual temperature has been increasing from 1950 to 2012. However, these graphs provide a more detailed picture of how the annual temperature has changed over time for each of these representative cities."
   ]
  },
  {
   "cell_type": "code",
   "execution_count": null,
   "id": "fb470c88",
   "metadata": {},
   "outputs": [],
   "source": [
    "# Write a function to plot scatter plots\n",
    "dff = city_pivot.reset_index()\n",
    "def plot_scatter(city, title, ax):\n",
    "    dff.plot(x='Year', y=city, kind='scatter', s=150, figsize=(15, 5), ax=ax)\n",
    "    ax.set_title(title)\n",
    "    ax.set_xlabel('Year')\n",
    "    ax.set_ylabel('Average Temperature')\n",
    "\n",
    "fig, ax = plt.subplots(1, 2, figsize=(10, 5))\n",
    "plot_scatter('Yakeshi', 'Scatter Plot of Yakeshi', ax[0])\n",
    "plot_scatter('Shuangyashan', 'Scatter Plot of Shuangyashan', ax[1])\n",
    "\n",
    "plt.tight_layout()"
   ]
  },
  {
   "cell_type": "code",
   "execution_count": null,
   "id": "cc760588",
   "metadata": {},
   "outputs": [],
   "source": [
    "fig, ax = plt.subplots(1, 2, figsize=(10, 5))\n",
    "plot_scatter('Xining', 'Scatter Plot of Xining', ax[0])\n",
    "plot_scatter('Qitaihe', 'Scatter Plot of Qitaihe', ax[1])\n",
    "plt.tight_layout()"
   ]
  },
  {
   "cell_type": "markdown",
   "id": "47713310",
   "metadata": {},
   "source": [
    "### Histogram\n",
    "We presented a histogram displaying the percentage change in annual temperature from 1950 to 2012 across multiple cities. Our analysis indicates that the majority of cities experienced a positive temperature change, with most cities having a percentage change of around 18.5. The overall shape of the histogram closely approximates a normal distribution.\n",
    "\n",
    "Interestingly, we found that from 1950 to 1978, when economic development in China was slow and most areas were rural, most cities had an annual percentage change in temperature of 18.1. However, from 1979 to 2012, during a period of rapid economic development and urbanization, most cities had an annual percentage change in temperature ranging from 18.25 to 19.00. This indicates that temperatures have increased in China over the past few decades, with evidence pointing to urbanization as a significant factor in this trend.\n",
    "\n",
    "While urbanization has brought benefits to humanity in terms of improved living standards and quality of life, it has also led to global warming. The observed increase in temperatures highlights the cost of urbanization and emphasizes the importance of implementing sustainable urban development strategies that mitigate the impact of global warming."
   ]
  },
  {
   "cell_type": "code",
   "execution_count": null,
   "id": "c23f0477",
   "metadata": {},
   "outputs": [],
   "source": [
    "fig, ax = plt.subplots(figsize=(20, 7))\n",
    "mean_pivot.plot(\n",
    "    kind=\"hist\", y=\"mean_temp_change\", color=\"#1a69b1\",\n",
    "    bins=17, legend=False, density=True, ax=ax\n",
    ")\n",
    "ax.spines['right'].set_visible(False)\n",
    "ax.spines['top'].set_visible(False)\n",
    "ax.set_xlabel(\"Percentage Change in Temperature\")\n",
    "ax.set_ylabel(\"Frequency\")\n",
    "ax.set_title(\"National Histogram of Percentage Change in Temperature from 1950 to 2012\")\n",
    "ax.grid(True, alpha=0.3)"
   ]
  },
  {
   "cell_type": "code",
   "execution_count": null,
   "id": "e4e6f3b3",
   "metadata": {},
   "outputs": [],
   "source": [
    "fig, ax = plt.subplots(figsize=(20, 7))\n",
    "mean_pivot_before.plot(\n",
    "    kind=\"hist\", y=\"mean_temp_change\", color=\"#1a69b1\",\n",
    "    bins=12, legend=False, density=True, ax=ax\n",
    ")\n",
    "ax.spines['right'].set_visible(False)\n",
    "ax.spines['top'].set_visible(False)\n",
    "ax.set_xlabel(\"Percentage Change in Temperature\")\n",
    "ax.set_ylabel(\"Frequency\")\n",
    "ax.set_title(\"National Histogram of Percentage Change in Temperature from 1950 to 1978\")\n",
    "ax.grid(True, alpha=0.3)"
   ]
  },
  {
   "cell_type": "code",
   "execution_count": null,
   "id": "dc1fb657",
   "metadata": {},
   "outputs": [],
   "source": [
    "fig, ax = plt.subplots(figsize=(20, 7))\n",
    "mean_pivot_after.plot(\n",
    "    kind=\"hist\", y=\"mean_temp_change\", color=\"#1a69b1\",\n",
    "    bins=12, legend=False, density=True, ax=ax\n",
    ")\n",
    "ax.spines['right'].set_visible(False)\n",
    "ax.spines['top'].set_visible(False)\n",
    "ax.set_xlabel(\"Percentage Change in Temperature\")\n",
    "ax.set_ylabel(\"Frequency\")\n",
    "ax.set_title(\"National Histogram of Percentage Change in Temperature from 1979 to 2012\")\n",
    "ax.grid(True, alpha=0.3)"
   ]
  },
  {
   "cell_type": "markdown",
   "id": "d9388416",
   "metadata": {},
   "source": [
    "# Project Two"
   ]
  },
  {
   "cell_type": "markdown",
   "id": "6e676982",
   "metadata": {},
   "source": [
    "## The Message\n",
    "We already plotted the corresponding line plots, bar charts, scatter plots, and histograms in China from 1950 to 2012 in project one and find out that the temperature is increasing when urbanization happened. In this section, we are going to expand more and merge another dataset that shows the China urban population from 1960 to 2012 t"
   ]
  },
  {
   "cell_type": "code",
   "execution_count": null,
   "id": "d458bb47",
   "metadata": {},
   "outputs": [],
   "source": [
    "urban = "
   ]
  },
  {
   "cell_type": "markdown",
   "id": "d8e0bacc",
   "metadata": {},
   "source": [
    "## Maps and Interpretations"
   ]
  },
  {
   "cell_type": "markdown",
   "id": "5271b105",
   "metadata": {},
   "source": [
    "## Conclusion"
   ]
  },
  {
   "cell_type": "markdown",
   "id": "a6ac36ff",
   "metadata": {},
   "source": [
    "In conclusion, the research found that urbanization plays an important role in shaping average temperature trends in China from 1950 to 2012. As the graphs and evidence suggest, we see that the temperature is increasing at a higher speed from 1979 to 2012 (when urbanization happened and the economy starts to bloom in China) compared with 1950 to 1978 (when the economy is growing very slowly). In addition, the average annual temperature is increasing in China from 1950 to 2012. More and more cities experienced extremely high-temperature years and fewer cities experienced low-temperature years.\n",
    "\n",
    "As urban areas start to grow, cities will experience higher temperatures due to potential factors such as industrialization and pollution, which can be discussed in future research. We can combine it with the population dataset for future implementation and study the relationship between population and temperature change. These findings are important to our understanding of global warming and may give us some suggestions for how to maintain the balance between society's development and the stability of the enviroment. "
   ]
  }
 ],
 "metadata": {
  "kernelspec": {
   "display_name": "Python 3 (ipykernel)",
   "language": "python",
   "name": "python3"
  },
  "language_info": {
   "codemirror_mode": {
    "name": "ipython",
    "version": 3
   },
   "file_extension": ".py",
   "mimetype": "text/x-python",
   "name": "python",
   "nbconvert_exporter": "python",
   "pygments_lexer": "ipython3",
   "version": "3.9.7"
  },
  "toc": {
   "base_numbering": 1,
   "nav_menu": {},
   "number_sections": true,
   "sideBar": true,
   "skip_h1_title": false,
   "title_cell": "Table of Contents",
   "title_sidebar": "Contents",
   "toc_cell": false,
   "toc_position": {},
   "toc_section_display": true,
   "toc_window_display": false
  }
 },
 "nbformat": 4,
 "nbformat_minor": 5
}
