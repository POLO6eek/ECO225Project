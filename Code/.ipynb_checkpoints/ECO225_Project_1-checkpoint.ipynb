{
 "cells": [
  {
   "cell_type": "markdown",
   "id": "394b1526",
   "metadata": {},
   "source": [
    "## **What role does urbanization, using China as an example, play in shaping average temperature trends in a warming world?**"
   ]
  },
  {
   "cell_type": "markdown",
   "id": "e955a120",
   "metadata": {},
   "source": [
    "### Introduction"
   ]
  },
  {
   "cell_type": "markdown",
   "id": "fcb8dd7c",
   "metadata": {},
   "source": [
    "With the development of modern cities and urbanization, the global average temperature has been increasing over the past century, leading to concerns about the impacts of climate change. While urbanization signifantly improves life standards and society effienicy, it is commonly believed to be a significant contributor to the global warming process. China, one of the fastest-growing developing countries in the world, is undergoing rapid urbanization in the recent few decades. This research aims to examine the role of urbanization in shaping average temperature trends in China. The analysis will be foused on finding the relationship between average temperature and other independent variables such as city, longitude, latitude, and seasons based on a time series analysis starting from 1979 to 2013. This is the period in which China decided to begin the journey of reforming and opening-up. By investigating the impact of urbanization on temperature trends in China, this study will further enhance our understanding of the interaction between human acitivity and the enviroment."
   ]
  },
  {
   "cell_type": "markdown",
   "id": "a9fccc37",
   "metadata": {},
   "source": [
    "### Data Cleaning"
   ]
  },
  {
   "cell_type": "code",
   "execution_count": 6,
   "id": "fdf75d9a",
   "metadata": {},
   "outputs": [],
   "source": [
    "# Imports\n",
    "import pandas as pd\n",
    "import numpy as np\n",
    "\n",
    "# Read dataset\n",
    "df = pd.read_csv('/Users/booker/Desktop/ECO225Project/Data/GlobalLandTemperaturesByCity.csv')"
   ]
  },
  {
   "cell_type": "code",
   "execution_count": 7,
   "id": "0f1f4a14",
   "metadata": {},
   "outputs": [
    {
     "name": "stdout",
     "output_type": "stream",
     "text": [
      "dt                                    0\n",
      "AverageTemperature               364130\n",
      "AverageTemperatureUncertainty    364130\n",
      "City                                  0\n",
      "Country                               0\n",
      "Latitude                              0\n",
      "Longitude                             0\n",
      "dtype: int64\n"
     ]
    }
   ],
   "source": [
    "# Check missing values\n",
    "print(df.isnull().sum())\n",
    "\n",
    "# Drop missing values\n",
    "df.dropna(axis = 0, inplace = True)"
   ]
  },
  {
   "cell_type": "code",
   "execution_count": 8,
   "id": "2cdff046",
   "metadata": {},
   "outputs": [
    {
     "name": "stdout",
     "output_type": "stream",
     "text": [
      "count    267.000000\n",
      "mean      15.340967\n",
      "std        3.360706\n",
      "min        1.497593\n",
      "25%       14.512396\n",
      "50%       17.032359\n",
      "75%       17.699692\n",
      "max       19.061038\n",
      "Name: AverageTemperature, dtype: float64\n",
      "count    267.000000\n",
      "mean       1.575500\n",
      "std        1.335002\n",
      "min        0.323927\n",
      "25%        0.445444\n",
      "50%        1.078305\n",
      "75%        2.380854\n",
      "max        5.470221\n",
      "Name: AverageTemperatureUncertainty, dtype: float64\n",
      "count     267.000000\n",
      "mean     1879.955056\n",
      "std        77.298695\n",
      "min      1743.000000\n",
      "25%      1813.500000\n",
      "50%      1880.000000\n",
      "75%      1946.500000\n",
      "max      2013.000000\n",
      "Name: Year, dtype: float64\n"
     ]
    }
   ],
   "source": [
    "# Convert all dates\n",
    "df['Date'] = pd.to_datetime(df.dt)\n",
    "df.drop(columns = ['dt'], axis = 1, inplace = True)\n",
    "df['Year'] = df['Date'].dt.year\n",
    "df['Month'] = df['Date'].dt.month\n",
    "\n",
    "# Group by year\n",
    "gb_year = df.groupby(['Year']).mean().reset_index()\n",
    "\n",
    "gb_year[['AverageTemperature', 'AverageTemperatureUncertainty']].describe()\n",
    "\n",
    "# Describing X and Y variables \n",
    "print(gb_year['AverageTemperature'].describe())\n",
    "print(gb_year['AverageTemperatureUncertainty'].describe())\n",
    "print(gb_year['Year'].describe())"
   ]
  },
  {
   "cell_type": "code",
   "execution_count": null,
   "id": "a7edb235",
   "metadata": {},
   "outputs": [],
   "source": []
  }
 ],
 "metadata": {
  "kernelspec": {
   "display_name": "Python 3 (ipykernel)",
   "language": "python",
   "name": "python3"
  },
  "language_info": {
   "codemirror_mode": {
    "name": "ipython",
    "version": 3
   },
   "file_extension": ".py",
   "mimetype": "text/x-python",
   "name": "python",
   "nbconvert_exporter": "python",
   "pygments_lexer": "ipython3",
   "version": "3.9.7"
  },
  "toc": {
   "base_numbering": 1,
   "nav_menu": {},
   "number_sections": true,
   "sideBar": true,
   "skip_h1_title": false,
   "title_cell": "Table of Contents",
   "title_sidebar": "Contents",
   "toc_cell": false,
   "toc_position": {},
   "toc_section_display": true,
   "toc_window_display": false
  }
 },
 "nbformat": 4,
 "nbformat_minor": 5
}
